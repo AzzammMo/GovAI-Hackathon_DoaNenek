{
 "cells": [
  {
   "cell_type": "code",
   "execution_count": 2,
   "metadata": {},
   "outputs": [],
   "source": [
    "import pandas as pd\n",
    "\n",
    "# Data Dummy untuk Rute Logistik\n",
    "data_rute = {\n",
    "    \"rute\": [\"Rute 1\", \"Rute 2\", \"Rute 3\", \"Rute 4\", \"Rute 5\"],\n",
    "    \"jarak\": [500, 700, 300, 600, 800],\n",
    "    \"biaya_per_km\": [2, 1.5, 3, 2.2, 1.8],\n",
    "    \"tingkat_risiko\": [\"Rendah\", \"Sedang\", \"Tinggi\", \"Sedang\", \"Rendah\"]\n",
    "}\n",
    "\n",
    "# Data Dummy untuk Evaluasi Risiko\n",
    "data_risiko = {\n",
    "    \"tingkat_risiko\": [\"Rendah\", \"Sedang\", \"Tinggi\"],\n",
    "    \"probabilitas_keterlambatan\": [0.1, 0.3, 0.6],\n",
    "    \"probabilitas_kerusakan\": [0.05, 0.15, 0.4],\n",
    "    \"metode_mitigasi\": [\n",
    "        \"Penanganan standar; pemeriksaan rutin.\",\n",
    "        \"Pastikan kemasan tambahan; pantau pembaruan.\",\n",
    "        \"Terapkan penanganan ketat; asuransi diperlukan.\"\n",
    "    ]\n",
    "}\n",
    "\n",
    "# Membuat DataFrame\n",
    "df_rute = pd.DataFrame(data_rute)\n",
    "df_risiko = pd.DataFrame(data_risiko)\n"
   ]
  },
  {
   "cell_type": "code",
   "execution_count": 3,
   "metadata": {},
   "outputs": [],
   "source": [
    "import random\n",
    "\n",
    "class RouteOptimizer:\n",
    "    def __init__(self, routes_data):\n",
    "        self.routes_data = routes_data\n",
    "    \n",
    "    def generate_route(self):\n",
    "        \"\"\"Menghasilkan rute acak.\"\"\"\n",
    "        return self.routes_data.sample(1).iloc[0]\n"
   ]
  },
  {
   "cell_type": "code",
   "execution_count": 4,
   "metadata": {},
   "outputs": [],
   "source": [
    "class RiskEvaluator:\n",
    "    def __init__(self, risk_data):\n",
    "        self.risk_data = risk_data\n",
    "    \n",
    "    def evaluate_risk(self, route):\n",
    "        \"\"\"Evaluasi risiko berdasarkan rute yang dipilih.\"\"\"\n",
    "        risk_info = self.risk_data[self.risk_data['tingkat_risiko'] == route['tingkat_risiko']].iloc[0]\n",
    "        delay_prob = risk_info['probabilitas_keterlambatan']\n",
    "        damage_prob = risk_info['probabilitas_kerusakan']\n",
    "        mitigation_methods = risk_info['metode_mitigasi']\n",
    "        \n",
    "        return {\n",
    "            \"delay_probability\": delay_prob,\n",
    "            \"damage_probability\": damage_prob,\n",
    "            \"mitigation_methods\": mitigation_methods\n",
    "        }\n"
   ]
  },
  {
   "cell_type": "code",
   "execution_count": 5,
   "metadata": {},
   "outputs": [],
   "source": [
    "import tkinter as tk\n",
    "from tkinter import messagebox\n",
    "\n",
    "class LogisticsApp:\n",
    "    def __init__(self, root, routes_data, risk_data):\n",
    "        self.root = root\n",
    "        self.root.title(\"Simulasi & Optimasi Rute Logistik\")\n",
    "        self.optimizer = RouteOptimizer(routes_data)\n",
    "        self.risk_evaluator = RiskEvaluator(risk_data)\n",
    "        \n",
    "        # Judul\n",
    "        tk.Label(root, text=\"AI Optimizer Rute Logistik\", font=(\"Arial\", 16)).pack(pady=10)\n",
    "\n",
    "        # Tombol untuk Menghasilkan Rute\n",
    "        self.route_btn = tk.Button(root, text=\"Hasilkan Rute Optimal\", command=self.show_results)\n",
    "        self.route_btn.pack(pady=20)\n",
    "\n",
    "        # Label Hasil\n",
    "        self.result_label = tk.Label(root, text=\"\", font=(\"Arial\", 12))\n",
    "        self.result_label.pack(pady=10)\n",
    "\n",
    "    def show_results(self):\n",
    "        chosen_route = self.optimizer.generate_route()\n",
    "        risk_evaluation = self.risk_evaluator.evaluate_risk(chosen_route)\n",
    "\n",
    "        # Menampilkan hasil di GUI\n",
    "        result_text = (\n",
    "            f\"Rute Terpilih: {chosen_route['rute']}\\n\"\n",
    "            f\"Jarak: {chosen_route['jarak']} km\\n\"\n",
    "            f\"Biaya per km: ${chosen_route['biaya_per_km']}\\n\"\n",
    "            f\"Tingkat Risiko: {chosen_route['tingkat_risiko']}\\n\"\n",
    "            f\"Probabilitas Keterlambatan: {risk_evaluation['delay_probability'] * 100:.1f}%\\n\"\n",
    "            f\"Probabilitas Kerusakan: {risk_evaluation['damage_probability'] * 100:.1f}%\\n\"\n",
    "            f\"Metode Mitigasi: {risk_evaluation['mitigation_methods']}\"\n",
    "        )\n",
    "        self.result_label.config(text=result_text)\n",
    "\n",
    "# Menjalankan Aplikasi GUI\n",
    "root = tk.Tk()\n",
    "app = LogisticsApp(root, df_rute, df_risiko)\n",
    "root.geometry(\"400x400\")\n",
    "root.mainloop()\n"
   ]
  }
 ],
 "metadata": {
  "kernelspec": {
   "display_name": "Python 3",
   "language": "python",
   "name": "python3"
  },
  "language_info": {
   "codemirror_mode": {
    "name": "ipython",
    "version": 3
   },
   "file_extension": ".py",
   "mimetype": "text/x-python",
   "name": "python",
   "nbconvert_exporter": "python",
   "pygments_lexer": "ipython3",
   "version": "3.12.6"
  }
 },
 "nbformat": 4,
 "nbformat_minor": 2
}
